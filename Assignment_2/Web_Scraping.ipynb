{
 "cells": [
  {
   "cell_type": "code",
   "execution_count": 1,
   "id": "0a43a4cb",
   "metadata": {},
   "outputs": [
    {
     "name": "stderr",
     "output_type": "stream",
     "text": [
      "/tmp/ipykernel_17689/809984176.py:22: DeprecationWarning: executable_path has been deprecated, please pass in a Service object\n",
      "  driver = webdriver.Chrome(\"/usr/lib/chromium-browser/chromedriver\")\n",
      "/tmp/ipykernel_17689/809984176.py:36: DeprecationWarning: find_elements_by_* commands are deprecated. Please use find_elements() instead\n",
      "  container = driver.find_elements_by_xpath(\"//div[@class='cWwQK MC R2 Gi z Z BB dXjiy']\")\n",
      "/home/sanket/adm/lib/python3.8/site-packages/selenium/webdriver/remote/webelement.py:392: UserWarning: find_element_by_* commands are deprecated. Please use find_element() instead\n",
      "  warnings.warn(\"find_element_by_* commands are deprecated. Please use find_element() instead\")\n",
      "/tmp/ipykernel_17689/809984176.py:48: DeprecationWarning: find_element_by_* commands are deprecated. Please use find_element() instead\n",
      "  driver.find_element_by_xpath('.//a[@class=\"ui_button nav next primary \"]').click()\n"
     ]
    }
   ],
   "source": [
    "import sys\n",
    "import csv\n",
    "from selenium import webdriver\n",
    "import time\n",
    "\n",
    "# default path to file to store data\n",
    "path_to_file = \"/home/sanket/adm/assignment2/reviews.csv\"\n",
    "\n",
    "# default number of scraped pages\n",
    "num_page = 60\n",
    "\n",
    "# default tripadvisor website of restaurant\n",
    "url = \"https://www.tripadvisor.com/Hotel_Review-g60763-d93486-Reviews-Millennium_Hotel_Broadway_Times_Square-New_York_City_New_York.html\"\n",
    "\n",
    "# if you pass the inputs in the command line\n",
    "if (len(sys.argv) == 4):\n",
    "    path_to_file = sys.argv[1]\n",
    "    num_page = int(sys.argv[2])\n",
    "    url = sys.argv[3]\n",
    "\n",
    "# Import the webdriver\n",
    "driver = webdriver.Chrome(\"/usr/lib/chromium-browser/chromedriver\")\n",
    "driver.get(url)\n",
    "\n",
    "# Open the file to save the review\n",
    "csvFile = open(path_to_file, 'a', encoding=\"utf-8\")\n",
    "csvWriter = csv.writer(csvFile)\n",
    "\n",
    "# change the value inside the range to save more or less reviews\n",
    "for i in range(0, num_page):\n",
    "    \n",
    "    # expand the review \n",
    "    time.sleep(2)\n",
    "    #driver.find_element_by_xpath(\"//span[@class='eljVo _S Z']\").click()\n",
    "\n",
    "    container = driver.find_elements_by_xpath(\"//div[@class='cWwQK MC R2 Gi z Z BB dXjiy']\")\n",
    "\n",
    "    #for j in range(len(container)):\n",
    "\n",
    "    title = container[0].find_element_by_xpath(\".//a[@class='fCitC']/span\").text\n",
    "    #date = container[0].find_element_by_xpath(\".//span[contains(@class, 'ratingDate')]\").get_attribute(\"title\")\n",
    "    rating = container[0].find_element_by_xpath(\".//span[contains(@class, 'ui_bubble_rating bubble_')]\").get_attribute(\"class\").split(\"_\")[3][:-1]\n",
    "    review = container[0].find_element_by_xpath(\"//q[@class='XllAv H4 _a']/span\").text\n",
    "\n",
    "    csvWriter.writerow([rating, title, review]) \n",
    "\n",
    "    # change the page\n",
    "    driver.find_element_by_xpath('.//a[@class=\"ui_button nav next primary \"]').click()\n",
    "\n",
    "driver.close()"
   ]
  },
  {
   "cell_type": "code",
   "execution_count": null,
   "id": "0946c473",
   "metadata": {},
   "outputs": [],
   "source": []
  }
 ],
 "metadata": {
  "kernelspec": {
   "display_name": "Python 3 (ipykernel)",
   "language": "python",
   "name": "python3"
  },
  "language_info": {
   "codemirror_mode": {
    "name": "ipython",
    "version": 3
   },
   "file_extension": ".py",
   "mimetype": "text/x-python",
   "name": "python",
   "nbconvert_exporter": "python",
   "pygments_lexer": "ipython3",
   "version": "3.8.10"
  }
 },
 "nbformat": 4,
 "nbformat_minor": 5
}
